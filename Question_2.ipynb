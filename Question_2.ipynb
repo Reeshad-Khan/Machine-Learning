{
  "nbformat": 4,
  "nbformat_minor": 0,
  "metadata": {
    "colab": {
      "name": "Question 2.ipynb",
      "provenance": [],
      "collapsed_sections": [],
      "mount_file_id": "1kngz4XcIud1EZLtzNaTQBEQ67SEKMh1z",
      "authorship_tag": "ABX9TyO83g9yKTJAoc57eF2FW2VD",
      "include_colab_link": true
    },
    "kernelspec": {
      "name": "python3",
      "display_name": "Python 3"
    },
    "language_info": {
      "name": "python"
    }
  },
  "cells": [
    {
      "cell_type": "markdown",
      "metadata": {
        "id": "view-in-github",
        "colab_type": "text"
      },
      "source": [
        "<a href=\"https://colab.research.google.com/github/Reeshad-Khan/Machine-Learning/blob/master/Question_2.ipynb\" target=\"_parent\"><img src=\"https://colab.research.google.com/assets/colab-badge.svg\" alt=\"Open In Colab\"/></a>"
      ]
    },
    {
      "cell_type": "markdown",
      "metadata": {
        "id": "GT9KjpeBDyLI"
      },
      "source": [
        "\n",
        "# **load required libraries**"
      ]
    },
    {
      "cell_type": "code",
      "metadata": {
        "id": "bmpZ7haP_qcU"
      },
      "source": [
        "import pandas as pd\n",
        "import pylab as pl\n",
        "import numpy as np\n",
        "import scipy.optimize as opt\n",
        "from sklearn import preprocessing\n",
        "%matplotlib inline \n",
        "import matplotlib.pyplot as plt"
      ],
      "execution_count": 80,
      "outputs": []
    },
    {
      "cell_type": "markdown",
      "metadata": {
        "id": "geXZDNxJDxZE"
      },
      "source": [
        "\n",
        "**Downloading data**"
      ]
    },
    {
      "cell_type": "code",
      "metadata": {
        "colab": {
          "base_uri": "https://localhost:8080/"
        },
        "id": "Z-cTknNOD9oL",
        "outputId": "54700b3c-2fd8-40d8-82a4-ef9d2b9530e8"
      },
      "source": [
        "!wget -O data.csv https://drive.google.com/file/d/1NqjIYWiHAOKn5G_mCzgVBtaLpNVZ_SOO/view?usp=sharing"
      ],
      "execution_count": 81,
      "outputs": [
        {
          "output_type": "stream",
          "text": [
            "--2021-04-09 15:29:39--  https://drive.google.com/file/d/1NqjIYWiHAOKn5G_mCzgVBtaLpNVZ_SOO/view?usp=sharing\n",
            "Resolving drive.google.com (drive.google.com)... 209.85.200.139, 209.85.200.100, 209.85.200.113, ...\n",
            "Connecting to drive.google.com (drive.google.com)|209.85.200.139|:443... connected.\n",
            "HTTP request sent, awaiting response... 302 Moved Temporarily\n",
            "Location: https://accounts.google.com/ServiceLogin?service=wise&passive=1209600&continue=https://drive.google.com/file/d/1NqjIYWiHAOKn5G_mCzgVBtaLpNVZ_SOO/view?usp%3Dsharing&followup=https://drive.google.com/file/d/1NqjIYWiHAOKn5G_mCzgVBtaLpNVZ_SOO/view?usp%3Dsharing [following]\n",
            "--2021-04-09 15:29:39--  https://accounts.google.com/ServiceLogin?service=wise&passive=1209600&continue=https://drive.google.com/file/d/1NqjIYWiHAOKn5G_mCzgVBtaLpNVZ_SOO/view?usp%3Dsharing&followup=https://drive.google.com/file/d/1NqjIYWiHAOKn5G_mCzgVBtaLpNVZ_SOO/view?usp%3Dsharing\n",
            "Resolving accounts.google.com (accounts.google.com)... 108.177.121.84, 2607:f8b0:4001:c34::54\n",
            "Connecting to accounts.google.com (accounts.google.com)|108.177.121.84|:443... connected.\n",
            "HTTP request sent, awaiting response... 200 OK\n",
            "Length: unspecified [text/html]\n",
            "Saving to: ‘data.csv’\n",
            "\n",
            "data.csv                [ <=>                ]  65.02K  --.-KB/s    in 0.001s  \n",
            "\n",
            "2021-04-09 15:29:39 (90.1 MB/s) - ‘data.csv’ saved [66578]\n",
            "\n"
          ],
          "name": "stdout"
        }
      ]
    },
    {
      "cell_type": "markdown",
      "metadata": {
        "id": "rHBK-UVZEea6"
      },
      "source": [
        "**Read data using pandas dataframe**"
      ]
    },
    {
      "cell_type": "code",
      "metadata": {
        "colab": {
          "base_uri": "https://localhost:8080/",
          "height": 402
        },
        "id": "Gd-ORZ98Ef0w",
        "outputId": "1ea577c9-98b3-43c4-8b2d-6472113f5734"
      },
      "source": [
        "df = pd.read_csv('/content/drive/MyDrive/data.csv', delimiter=\",\")\n",
        "df"
      ],
      "execution_count": 82,
      "outputs": [
        {
          "output_type": "execute_result",
          "data": {
            "text/html": [
              "<div>\n",
              "<style scoped>\n",
              "    .dataframe tbody tr th:only-of-type {\n",
              "        vertical-align: middle;\n",
              "    }\n",
              "\n",
              "    .dataframe tbody tr th {\n",
              "        vertical-align: top;\n",
              "    }\n",
              "\n",
              "    .dataframe thead th {\n",
              "        text-align: right;\n",
              "    }\n",
              "</style>\n",
              "<table border=\"1\" class=\"dataframe\">\n",
              "  <thead>\n",
              "    <tr style=\"text-align: right;\">\n",
              "      <th></th>\n",
              "      <th>3.7174</th>\n",
              "      <th>56.325</th>\n",
              "      <th>58.974</th>\n",
              "      <th>9.256</th>\n",
              "      <th>0.45627</th>\n",
              "      <th>5.795</th>\n",
              "      <th>13.638</th>\n",
              "      <th>-0.14328</th>\n",
              "      <th>1.7739</th>\n",
              "      <th>7.7725</th>\n",
              "      <th>20.93</th>\n",
              "      <th>19.234</th>\n",
              "      <th>3</th>\n",
              "      <th>1</th>\n",
              "      <th>4</th>\n",
              "      <th>1.1</th>\n",
              "    </tr>\n",
              "  </thead>\n",
              "  <tbody>\n",
              "    <tr>\n",
              "      <th>0</th>\n",
              "      <td>2.7534</td>\n",
              "      <td>56.749</td>\n",
              "      <td>56.848</td>\n",
              "      <td>9.5115</td>\n",
              "      <td>0.085101</td>\n",
              "      <td>10.3730</td>\n",
              "      <td>15.042</td>\n",
              "      <td>0.92653</td>\n",
              "      <td>0.35062</td>\n",
              "      <td>2.8064</td>\n",
              "      <td>18.145</td>\n",
              "      <td>18.972</td>\n",
              "      <td>1</td>\n",
              "      <td>2</td>\n",
              "      <td>3</td>\n",
              "      <td>1</td>\n",
              "    </tr>\n",
              "    <tr>\n",
              "      <th>1</th>\n",
              "      <td>2.0278</td>\n",
              "      <td>52.769</td>\n",
              "      <td>56.428</td>\n",
              "      <td>9.4282</td>\n",
              "      <td>0.781760</td>\n",
              "      <td>5.8555</td>\n",
              "      <td>17.612</td>\n",
              "      <td>0.08183</td>\n",
              "      <td>0.33566</td>\n",
              "      <td>3.2427</td>\n",
              "      <td>13.567</td>\n",
              "      <td>19.936</td>\n",
              "      <td>2</td>\n",
              "      <td>1</td>\n",
              "      <td>1</td>\n",
              "      <td>1</td>\n",
              "    </tr>\n",
              "    <tr>\n",
              "      <th>2</th>\n",
              "      <td>3.3783</td>\n",
              "      <td>44.768</td>\n",
              "      <td>57.687</td>\n",
              "      <td>9.7385</td>\n",
              "      <td>0.534460</td>\n",
              "      <td>6.0956</td>\n",
              "      <td>17.308</td>\n",
              "      <td>-1.53160</td>\n",
              "      <td>1.29820</td>\n",
              "      <td>8.7503</td>\n",
              "      <td>21.949</td>\n",
              "      <td>19.620</td>\n",
              "      <td>1</td>\n",
              "      <td>1</td>\n",
              "      <td>4</td>\n",
              "      <td>1</td>\n",
              "    </tr>\n",
              "    <tr>\n",
              "      <th>3</th>\n",
              "      <td>3.7983</td>\n",
              "      <td>46.136</td>\n",
              "      <td>59.557</td>\n",
              "      <td>9.8185</td>\n",
              "      <td>0.981570</td>\n",
              "      <td>9.5196</td>\n",
              "      <td>12.607</td>\n",
              "      <td>1.30570</td>\n",
              "      <td>1.16600</td>\n",
              "      <td>3.9632</td>\n",
              "      <td>17.934</td>\n",
              "      <td>19.480</td>\n",
              "      <td>1</td>\n",
              "      <td>2</td>\n",
              "      <td>3</td>\n",
              "      <td>1</td>\n",
              "    </tr>\n",
              "    <tr>\n",
              "      <th>4</th>\n",
              "      <td>3.0917</td>\n",
              "      <td>51.560</td>\n",
              "      <td>57.406</td>\n",
              "      <td>9.1364</td>\n",
              "      <td>0.406030</td>\n",
              "      <td>9.2565</td>\n",
              "      <td>17.626</td>\n",
              "      <td>0.10152</td>\n",
              "      <td>0.34597</td>\n",
              "      <td>5.9328</td>\n",
              "      <td>22.293</td>\n",
              "      <td>19.664</td>\n",
              "      <td>4</td>\n",
              "      <td>1</td>\n",
              "      <td>5</td>\n",
              "      <td>1</td>\n",
              "    </tr>\n",
              "    <tr>\n",
              "      <th>...</th>\n",
              "      <td>...</td>\n",
              "      <td>...</td>\n",
              "      <td>...</td>\n",
              "      <td>...</td>\n",
              "      <td>...</td>\n",
              "      <td>...</td>\n",
              "      <td>...</td>\n",
              "      <td>...</td>\n",
              "      <td>...</td>\n",
              "      <td>...</td>\n",
              "      <td>...</td>\n",
              "      <td>...</td>\n",
              "      <td>...</td>\n",
              "      <td>...</td>\n",
              "      <td>...</td>\n",
              "      <td>...</td>\n",
              "    </tr>\n",
              "    <tr>\n",
              "      <th>7994</th>\n",
              "      <td>2.9013</td>\n",
              "      <td>47.805</td>\n",
              "      <td>58.805</td>\n",
              "      <td>9.7700</td>\n",
              "      <td>0.196530</td>\n",
              "      <td>5.8620</td>\n",
              "      <td>12.993</td>\n",
              "      <td>1.45980</td>\n",
              "      <td>0.47724</td>\n",
              "      <td>6.9010</td>\n",
              "      <td>26.643</td>\n",
              "      <td>20.365</td>\n",
              "      <td>1</td>\n",
              "      <td>2</td>\n",
              "      <td>3</td>\n",
              "      <td>1</td>\n",
              "    </tr>\n",
              "    <tr>\n",
              "      <th>7995</th>\n",
              "      <td>4.2219</td>\n",
              "      <td>40.969</td>\n",
              "      <td>57.781</td>\n",
              "      <td>9.2291</td>\n",
              "      <td>0.366670</td>\n",
              "      <td>8.4966</td>\n",
              "      <td>15.177</td>\n",
              "      <td>0.25724</td>\n",
              "      <td>1.03980</td>\n",
              "      <td>3.8663</td>\n",
              "      <td>22.070</td>\n",
              "      <td>19.177</td>\n",
              "      <td>3</td>\n",
              "      <td>1</td>\n",
              "      <td>5</td>\n",
              "      <td>1</td>\n",
              "    </tr>\n",
              "    <tr>\n",
              "      <th>7996</th>\n",
              "      <td>2.2153</td>\n",
              "      <td>51.074</td>\n",
              "      <td>58.425</td>\n",
              "      <td>9.3208</td>\n",
              "      <td>0.195230</td>\n",
              "      <td>9.9987</td>\n",
              "      <td>16.745</td>\n",
              "      <td>0.11213</td>\n",
              "      <td>0.78606</td>\n",
              "      <td>4.8264</td>\n",
              "      <td>21.871</td>\n",
              "      <td>20.084</td>\n",
              "      <td>2</td>\n",
              "      <td>1</td>\n",
              "      <td>3</td>\n",
              "      <td>1</td>\n",
              "    </tr>\n",
              "    <tr>\n",
              "      <th>7997</th>\n",
              "      <td>6.4175</td>\n",
              "      <td>25.005</td>\n",
              "      <td>52.064</td>\n",
              "      <td>11.1930</td>\n",
              "      <td>1.584400</td>\n",
              "      <td>10.3250</td>\n",
              "      <td>18.212</td>\n",
              "      <td>0.88258</td>\n",
              "      <td>4.84840</td>\n",
              "      <td>10.4460</td>\n",
              "      <td>21.665</td>\n",
              "      <td>16.052</td>\n",
              "      <td>5</td>\n",
              "      <td>3</td>\n",
              "      <td>10</td>\n",
              "      <td>2</td>\n",
              "    </tr>\n",
              "    <tr>\n",
              "      <th>7998</th>\n",
              "      <td>3.3657</td>\n",
              "      <td>40.319</td>\n",
              "      <td>55.561</td>\n",
              "      <td>9.7822</td>\n",
              "      <td>0.739210</td>\n",
              "      <td>7.4166</td>\n",
              "      <td>12.935</td>\n",
              "      <td>2.04760</td>\n",
              "      <td>1.00420</td>\n",
              "      <td>4.3027</td>\n",
              "      <td>23.582</td>\n",
              "      <td>19.791</td>\n",
              "      <td>2</td>\n",
              "      <td>2</td>\n",
              "      <td>1</td>\n",
              "      <td>1</td>\n",
              "    </tr>\n",
              "  </tbody>\n",
              "</table>\n",
              "<p>7999 rows × 16 columns</p>\n",
              "</div>"
            ],
            "text/plain": [
              "      3.7174  56.325  58.974    9.256   0.45627  ...  19.234  3  1   4  1.1\n",
              "0     2.7534  56.749  56.848   9.5115  0.085101  ...  18.972  1  2   3    1\n",
              "1     2.0278  52.769  56.428   9.4282  0.781760  ...  19.936  2  1   1    1\n",
              "2     3.3783  44.768  57.687   9.7385  0.534460  ...  19.620  1  1   4    1\n",
              "3     3.7983  46.136  59.557   9.8185  0.981570  ...  19.480  1  2   3    1\n",
              "4     3.0917  51.560  57.406   9.1364  0.406030  ...  19.664  4  1   5    1\n",
              "...      ...     ...     ...      ...       ...  ...     ... .. ..  ..  ...\n",
              "7994  2.9013  47.805  58.805   9.7700  0.196530  ...  20.365  1  2   3    1\n",
              "7995  4.2219  40.969  57.781   9.2291  0.366670  ...  19.177  3  1   5    1\n",
              "7996  2.2153  51.074  58.425   9.3208  0.195230  ...  20.084  2  1   3    1\n",
              "7997  6.4175  25.005  52.064  11.1930  1.584400  ...  16.052  5  3  10    2\n",
              "7998  3.3657  40.319  55.561   9.7822  0.739210  ...  19.791  2  2   1    1\n",
              "\n",
              "[7999 rows x 16 columns]"
            ]
          },
          "metadata": {
            "tags": []
          },
          "execution_count": 82
        }
      ]
    },
    {
      "cell_type": "code",
      "metadata": {
        "colab": {
          "base_uri": "https://localhost:8080/"
        },
        "id": "4rOpmDDdGCPK",
        "outputId": "f0cea233-886d-4d17-f87d-98dcb8138d4d"
      },
      "source": [
        "df.shape"
      ],
      "execution_count": 104,
      "outputs": [
        {
          "output_type": "execute_result",
          "data": {
            "text/plain": [
              "(7999, 16)"
            ]
          },
          "metadata": {
            "tags": []
          },
          "execution_count": 104
        }
      ]
    },
    {
      "cell_type": "code",
      "metadata": {
        "colab": {
          "base_uri": "https://localhost:8080/",
          "height": 402
        },
        "id": "nIRiMy5ZGggs",
        "outputId": "7952830d-5e31-440b-83d9-bb47ccb74977"
      },
      "source": [
        "sample = df.iloc[:,0:15]\n",
        "sample"
      ],
      "execution_count": 26,
      "outputs": [
        {
          "output_type": "execute_result",
          "data": {
            "text/html": [
              "<div>\n",
              "<style scoped>\n",
              "    .dataframe tbody tr th:only-of-type {\n",
              "        vertical-align: middle;\n",
              "    }\n",
              "\n",
              "    .dataframe tbody tr th {\n",
              "        vertical-align: top;\n",
              "    }\n",
              "\n",
              "    .dataframe thead th {\n",
              "        text-align: right;\n",
              "    }\n",
              "</style>\n",
              "<table border=\"1\" class=\"dataframe\">\n",
              "  <thead>\n",
              "    <tr style=\"text-align: right;\">\n",
              "      <th></th>\n",
              "      <th>3.7174</th>\n",
              "      <th>56.325</th>\n",
              "      <th>58.974</th>\n",
              "      <th>9.256</th>\n",
              "      <th>0.45627</th>\n",
              "      <th>5.795</th>\n",
              "      <th>13.638</th>\n",
              "      <th>-0.14328</th>\n",
              "      <th>1.7739</th>\n",
              "      <th>7.7725</th>\n",
              "      <th>20.93</th>\n",
              "      <th>19.234</th>\n",
              "      <th>3</th>\n",
              "      <th>1</th>\n",
              "      <th>4</th>\n",
              "    </tr>\n",
              "  </thead>\n",
              "  <tbody>\n",
              "    <tr>\n",
              "      <th>0</th>\n",
              "      <td>2.7534</td>\n",
              "      <td>56.749</td>\n",
              "      <td>56.848</td>\n",
              "      <td>9.5115</td>\n",
              "      <td>0.085101</td>\n",
              "      <td>10.3730</td>\n",
              "      <td>15.042</td>\n",
              "      <td>0.92653</td>\n",
              "      <td>0.35062</td>\n",
              "      <td>2.8064</td>\n",
              "      <td>18.145</td>\n",
              "      <td>18.972</td>\n",
              "      <td>1</td>\n",
              "      <td>2</td>\n",
              "      <td>3</td>\n",
              "    </tr>\n",
              "    <tr>\n",
              "      <th>1</th>\n",
              "      <td>2.0278</td>\n",
              "      <td>52.769</td>\n",
              "      <td>56.428</td>\n",
              "      <td>9.4282</td>\n",
              "      <td>0.781760</td>\n",
              "      <td>5.8555</td>\n",
              "      <td>17.612</td>\n",
              "      <td>0.08183</td>\n",
              "      <td>0.33566</td>\n",
              "      <td>3.2427</td>\n",
              "      <td>13.567</td>\n",
              "      <td>19.936</td>\n",
              "      <td>2</td>\n",
              "      <td>1</td>\n",
              "      <td>1</td>\n",
              "    </tr>\n",
              "    <tr>\n",
              "      <th>2</th>\n",
              "      <td>3.3783</td>\n",
              "      <td>44.768</td>\n",
              "      <td>57.687</td>\n",
              "      <td>9.7385</td>\n",
              "      <td>0.534460</td>\n",
              "      <td>6.0956</td>\n",
              "      <td>17.308</td>\n",
              "      <td>-1.53160</td>\n",
              "      <td>1.29820</td>\n",
              "      <td>8.7503</td>\n",
              "      <td>21.949</td>\n",
              "      <td>19.620</td>\n",
              "      <td>1</td>\n",
              "      <td>1</td>\n",
              "      <td>4</td>\n",
              "    </tr>\n",
              "    <tr>\n",
              "      <th>3</th>\n",
              "      <td>3.7983</td>\n",
              "      <td>46.136</td>\n",
              "      <td>59.557</td>\n",
              "      <td>9.8185</td>\n",
              "      <td>0.981570</td>\n",
              "      <td>9.5196</td>\n",
              "      <td>12.607</td>\n",
              "      <td>1.30570</td>\n",
              "      <td>1.16600</td>\n",
              "      <td>3.9632</td>\n",
              "      <td>17.934</td>\n",
              "      <td>19.480</td>\n",
              "      <td>1</td>\n",
              "      <td>2</td>\n",
              "      <td>3</td>\n",
              "    </tr>\n",
              "    <tr>\n",
              "      <th>4</th>\n",
              "      <td>3.0917</td>\n",
              "      <td>51.560</td>\n",
              "      <td>57.406</td>\n",
              "      <td>9.1364</td>\n",
              "      <td>0.406030</td>\n",
              "      <td>9.2565</td>\n",
              "      <td>17.626</td>\n",
              "      <td>0.10152</td>\n",
              "      <td>0.34597</td>\n",
              "      <td>5.9328</td>\n",
              "      <td>22.293</td>\n",
              "      <td>19.664</td>\n",
              "      <td>4</td>\n",
              "      <td>1</td>\n",
              "      <td>5</td>\n",
              "    </tr>\n",
              "    <tr>\n",
              "      <th>...</th>\n",
              "      <td>...</td>\n",
              "      <td>...</td>\n",
              "      <td>...</td>\n",
              "      <td>...</td>\n",
              "      <td>...</td>\n",
              "      <td>...</td>\n",
              "      <td>...</td>\n",
              "      <td>...</td>\n",
              "      <td>...</td>\n",
              "      <td>...</td>\n",
              "      <td>...</td>\n",
              "      <td>...</td>\n",
              "      <td>...</td>\n",
              "      <td>...</td>\n",
              "      <td>...</td>\n",
              "    </tr>\n",
              "    <tr>\n",
              "      <th>7994</th>\n",
              "      <td>2.9013</td>\n",
              "      <td>47.805</td>\n",
              "      <td>58.805</td>\n",
              "      <td>9.7700</td>\n",
              "      <td>0.196530</td>\n",
              "      <td>5.8620</td>\n",
              "      <td>12.993</td>\n",
              "      <td>1.45980</td>\n",
              "      <td>0.47724</td>\n",
              "      <td>6.9010</td>\n",
              "      <td>26.643</td>\n",
              "      <td>20.365</td>\n",
              "      <td>1</td>\n",
              "      <td>2</td>\n",
              "      <td>3</td>\n",
              "    </tr>\n",
              "    <tr>\n",
              "      <th>7995</th>\n",
              "      <td>4.2219</td>\n",
              "      <td>40.969</td>\n",
              "      <td>57.781</td>\n",
              "      <td>9.2291</td>\n",
              "      <td>0.366670</td>\n",
              "      <td>8.4966</td>\n",
              "      <td>15.177</td>\n",
              "      <td>0.25724</td>\n",
              "      <td>1.03980</td>\n",
              "      <td>3.8663</td>\n",
              "      <td>22.070</td>\n",
              "      <td>19.177</td>\n",
              "      <td>3</td>\n",
              "      <td>1</td>\n",
              "      <td>5</td>\n",
              "    </tr>\n",
              "    <tr>\n",
              "      <th>7996</th>\n",
              "      <td>2.2153</td>\n",
              "      <td>51.074</td>\n",
              "      <td>58.425</td>\n",
              "      <td>9.3208</td>\n",
              "      <td>0.195230</td>\n",
              "      <td>9.9987</td>\n",
              "      <td>16.745</td>\n",
              "      <td>0.11213</td>\n",
              "      <td>0.78606</td>\n",
              "      <td>4.8264</td>\n",
              "      <td>21.871</td>\n",
              "      <td>20.084</td>\n",
              "      <td>2</td>\n",
              "      <td>1</td>\n",
              "      <td>3</td>\n",
              "    </tr>\n",
              "    <tr>\n",
              "      <th>7997</th>\n",
              "      <td>6.4175</td>\n",
              "      <td>25.005</td>\n",
              "      <td>52.064</td>\n",
              "      <td>11.1930</td>\n",
              "      <td>1.584400</td>\n",
              "      <td>10.3250</td>\n",
              "      <td>18.212</td>\n",
              "      <td>0.88258</td>\n",
              "      <td>4.84840</td>\n",
              "      <td>10.4460</td>\n",
              "      <td>21.665</td>\n",
              "      <td>16.052</td>\n",
              "      <td>5</td>\n",
              "      <td>3</td>\n",
              "      <td>10</td>\n",
              "    </tr>\n",
              "    <tr>\n",
              "      <th>7998</th>\n",
              "      <td>3.3657</td>\n",
              "      <td>40.319</td>\n",
              "      <td>55.561</td>\n",
              "      <td>9.7822</td>\n",
              "      <td>0.739210</td>\n",
              "      <td>7.4166</td>\n",
              "      <td>12.935</td>\n",
              "      <td>2.04760</td>\n",
              "      <td>1.00420</td>\n",
              "      <td>4.3027</td>\n",
              "      <td>23.582</td>\n",
              "      <td>19.791</td>\n",
              "      <td>2</td>\n",
              "      <td>2</td>\n",
              "      <td>1</td>\n",
              "    </tr>\n",
              "  </tbody>\n",
              "</table>\n",
              "<p>7999 rows × 15 columns</p>\n",
              "</div>"
            ],
            "text/plain": [
              "      3.7174  56.325  58.974    9.256   0.45627  ...   20.93  19.234  3  1   4\n",
              "0     2.7534  56.749  56.848   9.5115  0.085101  ...  18.145  18.972  1  2   3\n",
              "1     2.0278  52.769  56.428   9.4282  0.781760  ...  13.567  19.936  2  1   1\n",
              "2     3.3783  44.768  57.687   9.7385  0.534460  ...  21.949  19.620  1  1   4\n",
              "3     3.7983  46.136  59.557   9.8185  0.981570  ...  17.934  19.480  1  2   3\n",
              "4     3.0917  51.560  57.406   9.1364  0.406030  ...  22.293  19.664  4  1   5\n",
              "...      ...     ...     ...      ...       ...  ...     ...     ... .. ..  ..\n",
              "7994  2.9013  47.805  58.805   9.7700  0.196530  ...  26.643  20.365  1  2   3\n",
              "7995  4.2219  40.969  57.781   9.2291  0.366670  ...  22.070  19.177  3  1   5\n",
              "7996  2.2153  51.074  58.425   9.3208  0.195230  ...  21.871  20.084  2  1   3\n",
              "7997  6.4175  25.005  52.064  11.1930  1.584400  ...  21.665  16.052  5  3  10\n",
              "7998  3.3657  40.319  55.561   9.7822  0.739210  ...  23.582  19.791  2  2   1\n",
              "\n",
              "[7999 rows x 15 columns]"
            ]
          },
          "metadata": {
            "tags": []
          },
          "execution_count": 26
        }
      ]
    },
    {
      "cell_type": "code",
      "metadata": {
        "colab": {
          "base_uri": "https://localhost:8080/",
          "height": 402
        },
        "id": "zk4C_GRfHLdi",
        "outputId": "fd8615a7-42b3-48d7-ed24-81b857a2f713"
      },
      "source": [
        "label = df.iloc[:,-1:]\n",
        "label"
      ],
      "execution_count": 89,
      "outputs": [
        {
          "output_type": "execute_result",
          "data": {
            "text/html": [
              "<div>\n",
              "<style scoped>\n",
              "    .dataframe tbody tr th:only-of-type {\n",
              "        vertical-align: middle;\n",
              "    }\n",
              "\n",
              "    .dataframe tbody tr th {\n",
              "        vertical-align: top;\n",
              "    }\n",
              "\n",
              "    .dataframe thead th {\n",
              "        text-align: right;\n",
              "    }\n",
              "</style>\n",
              "<table border=\"1\" class=\"dataframe\">\n",
              "  <thead>\n",
              "    <tr style=\"text-align: right;\">\n",
              "      <th></th>\n",
              "      <th>1.1</th>\n",
              "    </tr>\n",
              "  </thead>\n",
              "  <tbody>\n",
              "    <tr>\n",
              "      <th>0</th>\n",
              "      <td>1</td>\n",
              "    </tr>\n",
              "    <tr>\n",
              "      <th>1</th>\n",
              "      <td>1</td>\n",
              "    </tr>\n",
              "    <tr>\n",
              "      <th>2</th>\n",
              "      <td>1</td>\n",
              "    </tr>\n",
              "    <tr>\n",
              "      <th>3</th>\n",
              "      <td>1</td>\n",
              "    </tr>\n",
              "    <tr>\n",
              "      <th>4</th>\n",
              "      <td>1</td>\n",
              "    </tr>\n",
              "    <tr>\n",
              "      <th>...</th>\n",
              "      <td>...</td>\n",
              "    </tr>\n",
              "    <tr>\n",
              "      <th>7994</th>\n",
              "      <td>1</td>\n",
              "    </tr>\n",
              "    <tr>\n",
              "      <th>7995</th>\n",
              "      <td>1</td>\n",
              "    </tr>\n",
              "    <tr>\n",
              "      <th>7996</th>\n",
              "      <td>1</td>\n",
              "    </tr>\n",
              "    <tr>\n",
              "      <th>7997</th>\n",
              "      <td>2</td>\n",
              "    </tr>\n",
              "    <tr>\n",
              "      <th>7998</th>\n",
              "      <td>1</td>\n",
              "    </tr>\n",
              "  </tbody>\n",
              "</table>\n",
              "<p>7999 rows × 1 columns</p>\n",
              "</div>"
            ],
            "text/plain": [
              "      1.1\n",
              "0       1\n",
              "1       1\n",
              "2       1\n",
              "3       1\n",
              "4       1\n",
              "...   ...\n",
              "7994    1\n",
              "7995    1\n",
              "7996    1\n",
              "7997    2\n",
              "7998    1\n",
              "\n",
              "[7999 rows x 1 columns]"
            ]
          },
          "metadata": {
            "tags": []
          },
          "execution_count": 89
        }
      ]
    },
    {
      "cell_type": "markdown",
      "metadata": {
        "id": "LJRvNPw5J4jh"
      },
      "source": [
        "**Lets define X, and y for our dataset:**"
      ]
    },
    {
      "cell_type": "code",
      "metadata": {
        "colab": {
          "base_uri": "https://localhost:8080/"
        },
        "id": "4Vol2eNGJ5i8",
        "outputId": "86ac1695-a29e-4471-b205-2feaf6ad60cb"
      },
      "source": [
        "X = np.asarray(sample)\n",
        "X"
      ],
      "execution_count": 91,
      "outputs": [
        {
          "output_type": "execute_result",
          "data": {
            "text/plain": [
              "array([[ 2.75, 56.75, 56.85, ...,  1.  ,  2.  ,  3.  ],\n",
              "       [ 2.03, 52.77, 56.43, ...,  2.  ,  1.  ,  1.  ],\n",
              "       [ 3.38, 44.77, 57.69, ...,  1.  ,  1.  ,  4.  ],\n",
              "       ...,\n",
              "       [ 2.22, 51.07, 58.42, ...,  2.  ,  1.  ,  3.  ],\n",
              "       [ 6.42, 25.  , 52.06, ...,  5.  ,  3.  , 10.  ],\n",
              "       [ 3.37, 40.32, 55.56, ...,  2.  ,  2.  ,  1.  ]])"
            ]
          },
          "metadata": {
            "tags": []
          },
          "execution_count": 91
        }
      ]
    },
    {
      "cell_type": "code",
      "metadata": {
        "colab": {
          "base_uri": "https://localhost:8080/"
        },
        "id": "WSykblvAKFsM",
        "outputId": "39a72766-4c61-43fd-9c56-ff49a68fae7d"
      },
      "source": [
        "y = np.asarray(label)\n",
        "y"
      ],
      "execution_count": 92,
      "outputs": [
        {
          "output_type": "execute_result",
          "data": {
            "text/plain": [
              "array([[1],\n",
              "       [1],\n",
              "       [1],\n",
              "       ...,\n",
              "       [1],\n",
              "       [2],\n",
              "       [1]])"
            ]
          },
          "metadata": {
            "tags": []
          },
          "execution_count": 92
        }
      ]
    },
    {
      "cell_type": "markdown",
      "metadata": {
        "id": "jKPsgNKfKPoi"
      },
      "source": [
        "**Also, we normalize the dataset:**"
      ]
    },
    {
      "cell_type": "code",
      "metadata": {
        "colab": {
          "base_uri": "https://localhost:8080/"
        },
        "id": "xo0t2NXbKQ06",
        "outputId": "e3270b8d-2abd-4ee3-8ae7-617724b137ad"
      },
      "source": [
        "from sklearn import preprocessing\n",
        "X = preprocessing.StandardScaler().fit(X).transform(X)\n",
        "X"
      ],
      "execution_count": 93,
      "outputs": [
        {
          "output_type": "execute_result",
          "data": {
            "text/plain": [
              "array([[-0.85,  1.14,  0.2 , ..., -1.17,  0.14, -0.38],\n",
              "       [-1.33,  0.67,  0.1 , ..., -0.64, -0.95, -1.21],\n",
              "       [-0.43, -0.27,  0.4 , ..., -1.17, -0.95,  0.04],\n",
              "       ...,\n",
              "       [-1.21,  0.47,  0.58, ..., -0.64, -0.95, -0.38],\n",
              "       [ 1.59, -2.59, -0.95, ...,  0.95,  1.23,  2.55],\n",
              "       [-0.44, -0.79, -0.11, ..., -0.64,  0.14, -1.21]])"
            ]
          },
          "metadata": {
            "tags": []
          },
          "execution_count": 93
        }
      ]
    },
    {
      "cell_type": "markdown",
      "metadata": {
        "id": "XWSiq4EkKVYp"
      },
      "source": [
        "# Train/Test dataset"
      ]
    },
    {
      "cell_type": "markdown",
      "metadata": {
        "id": "svp9RhK7KZSb"
      },
      "source": [
        "**Okay, we split our dataset into train and test set:**"
      ]
    },
    {
      "cell_type": "code",
      "metadata": {
        "colab": {
          "base_uri": "https://localhost:8080/"
        },
        "id": "6qKhwjwFKXmS",
        "outputId": "79b78442-b644-44e1-e9e2-d79a59f7a79d"
      },
      "source": [
        "from sklearn.model_selection import train_test_split\n",
        "X_train, X_test, y_train, y_test = train_test_split( X, y, test_size=0.2, random_state=4)\n",
        "print ('Train set:', X_train.shape,  y_train.shape)\n",
        "print ('Test set:', X_test.shape,  y_test.shape)"
      ],
      "execution_count": 105,
      "outputs": [
        {
          "output_type": "stream",
          "text": [
            "Train set: (6399, 15) (6399, 1)\n",
            "Test set: (1600, 15) (1600, 1)\n"
          ],
          "name": "stdout"
        }
      ]
    },
    {
      "cell_type": "markdown",
      "metadata": {
        "id": "fnzqAmM3KkSF"
      },
      "source": [
        "## Modeling (Logistic Regression with Scikit-learn)"
      ]
    },
    {
      "cell_type": "markdown",
      "metadata": {
        "id": "PHsDcqI-PU9w"
      },
      "source": [
        "We build our model using **LogisticRegression** from Scikit-learn package. This function implements logistic regression and can use different numerical optimizers to find parameters, including ‘newton-cg’, ‘lbfgs’, ‘liblinear’, ‘sag’, ‘saga’ solvers.\n",
        "\n",
        "The version of Logistic Regression in Scikit-learn, support regularization. Regularization is a technique used to solve the overfitting problem in machine learning models. **C** parameter indicates **inverse of regularization strength** which must be a positive float. Smaller values specify stronger regularization. We fit our model with train set:"
      ]
    },
    {
      "cell_type": "code",
      "metadata": {
        "colab": {
          "base_uri": "https://localhost:8080/"
        },
        "id": "rPA0VaZoKmAz",
        "outputId": "31abc4b1-04be-46cb-a933-21cf564105b7"
      },
      "source": [
        "from sklearn.linear_model import LogisticRegression\n",
        "from sklearn.metrics import confusion_matrix\n",
        "LR = LogisticRegression(C=0.01, solver='liblinear').fit(X_train,y_train)\n",
        "LR"
      ],
      "execution_count": 106,
      "outputs": [
        {
          "output_type": "stream",
          "text": [
            "/usr/local/lib/python3.7/dist-packages/sklearn/utils/validation.py:760: DataConversionWarning: A column-vector y was passed when a 1d array was expected. Please change the shape of y to (n_samples, ), for example using ravel().\n",
            "  y = column_or_1d(y, warn=True)\n"
          ],
          "name": "stderr"
        },
        {
          "output_type": "execute_result",
          "data": {
            "text/plain": [
              "LogisticRegression(C=0.01, class_weight=None, dual=False, fit_intercept=True,\n",
              "                   intercept_scaling=1, l1_ratio=None, max_iter=100,\n",
              "                   multi_class='auto', n_jobs=None, penalty='l2',\n",
              "                   random_state=None, solver='liblinear', tol=0.0001, verbose=0,\n",
              "                   warm_start=False)"
            ]
          },
          "metadata": {
            "tags": []
          },
          "execution_count": 106
        }
      ]
    },
    {
      "cell_type": "markdown",
      "metadata": {
        "id": "l_x6yGcoKqBs"
      },
      "source": [
        "**Now we can predict using our test set:**"
      ]
    },
    {
      "cell_type": "code",
      "metadata": {
        "colab": {
          "base_uri": "https://localhost:8080/"
        },
        "id": "S8fvZYsYKq5z",
        "outputId": "f6ab554e-de72-4cdb-ceb3-a490914a97e9"
      },
      "source": [
        "yhat = LR.predict(X_test)\n",
        "yhat"
      ],
      "execution_count": 107,
      "outputs": [
        {
          "output_type": "execute_result",
          "data": {
            "text/plain": [
              "array([2, 1, 1, ..., 2, 1, 1])"
            ]
          },
          "metadata": {
            "tags": []
          },
          "execution_count": 107
        }
      ]
    },
    {
      "cell_type": "markdown",
      "metadata": {
        "id": "ZdxUhDf8KvaC"
      },
      "source": [
        "**predict_proba** returns estimates for all classes, ordered by the label of classes. So, the first column is the probability of class 0, P(Y=0|X), and second column is probability of class 1, P(Y=1|X):"
      ]
    },
    {
      "cell_type": "code",
      "metadata": {
        "colab": {
          "base_uri": "https://localhost:8080/"
        },
        "id": "3vqVio4TKyJ7",
        "outputId": "27284b35-cedb-42b8-8544-12d2d5a34509"
      },
      "source": [
        "yhat_prob = LR.predict_proba(X_test)\n",
        "yhat_prob"
      ],
      "execution_count": 108,
      "outputs": [
        {
          "output_type": "execute_result",
          "data": {
            "text/plain": [
              "array([[5.00e-04, 9.99e-01],\n",
              "       [9.85e-01, 1.45e-02],\n",
              "       [9.58e-01, 4.21e-02],\n",
              "       ...,\n",
              "       [1.15e-03, 9.99e-01],\n",
              "       [9.84e-01, 1.63e-02],\n",
              "       [9.96e-01, 3.83e-03]])"
            ]
          },
          "metadata": {
            "tags": []
          },
          "execution_count": 108
        }
      ]
    },
    {
      "cell_type": "markdown",
      "metadata": {
        "id": "_ABjdchkK19F"
      },
      "source": [
        "## **Evaluation**\n",
        "\n",
        "**jaccard index¶**\n",
        "\n",
        "Lets try jaccard index for accuracy evaluation. we can define jaccard as the size of the intersection divided by the size of the union of two label sets. If the entire set of predicted labels for a sample strictly match with the true set of labels, then the subset accuracy is 1.0; otherwise it is 0.0."
      ]
    },
    {
      "cell_type": "code",
      "metadata": {
        "colab": {
          "base_uri": "https://localhost:8080/"
        },
        "id": "KWqpjf4WK__F",
        "outputId": "70c701d9-a685-491b-9458-6b0eb76c77b1"
      },
      "source": [
        "from sklearn.metrics import jaccard_score\n",
        "jaccard_score(y_test, yhat)"
      ],
      "execution_count": 109,
      "outputs": [
        {
          "output_type": "execute_result",
          "data": {
            "text/plain": [
              "1.0"
            ]
          },
          "metadata": {
            "tags": []
          },
          "execution_count": 109
        }
      ]
    },
    {
      "cell_type": "markdown",
      "metadata": {
        "id": "sMZjn8ssLgeX"
      },
      "source": [
        "## **confusion matrix¶**\n",
        "Another way of looking at accuracy of classifier is to look at **confusion matrix**."
      ]
    },
    {
      "cell_type": "code",
      "metadata": {
        "colab": {
          "base_uri": "https://localhost:8080/"
        },
        "id": "ZbTHDHjILmEv",
        "outputId": "19c0107a-bf85-440a-ae91-e1c040314d6d"
      },
      "source": [
        "from sklearn.metrics import classification_report, confusion_matrix\n",
        "import itertools\n",
        "def plot_confusion_matrix(cm, classes,\n",
        "                          normalize=False,\n",
        "                          title='Confusion matrix',\n",
        "                          cmap=plt.cm.Blues):\n",
        "    \"\"\"\n",
        "    This function prints and plots the confusion matrix.\n",
        "    Normalization can be applied by setting `normalize=True`.\n",
        "    \"\"\"\n",
        "    if normalize:\n",
        "        cm = cm.astype('float') / cm.sum(axis=1)[:, np.newaxis]\n",
        "        print(\"Normalized confusion matrix\")\n",
        "    else:\n",
        "        print('Confusion matrix, without normalization')\n",
        "\n",
        "    print(cm)\n",
        "\n",
        "    plt.imshow(cm, interpolation='nearest', cmap=cmap)\n",
        "    plt.title(title)\n",
        "    plt.colorbar()\n",
        "    tick_marks = np.arange(len(classes))\n",
        "    plt.xticks(tick_marks, classes, rotation=45)\n",
        "    plt.yticks(tick_marks, classes)\n",
        "\n",
        "    fmt = '.2f' if normalize else 'd'\n",
        "    thresh = cm.max() / 2.\n",
        "    for i, j in itertools.product(range(cm.shape[0]), range(cm.shape[1])):\n",
        "        plt.text(j, i, format(cm[i, j], fmt),\n",
        "                 horizontalalignment=\"center\",\n",
        "                 color=\"white\" if cm[i, j] > thresh else \"black\")\n",
        "\n",
        "    plt.tight_layout()\n",
        "    plt.ylabel('True label')\n",
        "    plt.xlabel('Predicted label')\n",
        "print(confusion_matrix(y_test, yhat, labels=[1,0]))"
      ],
      "execution_count": 110,
      "outputs": [
        {
          "output_type": "stream",
          "text": [
            "[[1299    0]\n",
            " [   0    0]]\n"
          ],
          "name": "stdout"
        }
      ]
    },
    {
      "cell_type": "code",
      "metadata": {
        "colab": {
          "base_uri": "https://localhost:8080/",
          "height": 362
        },
        "id": "CrEIbTTnLvWT",
        "outputId": "026729bc-adef-4ead-b614-e5e300512fd8"
      },
      "source": [
        "# Compute confusion matrix\n",
        "cnf_matrix = confusion_matrix(y_test, yhat, labels=[1,0])\n",
        "np.set_printoptions(precision=2)\n",
        "\n",
        "\n",
        "# Plot non-normalized confusion matrix\n",
        "plt.figure()\n",
        "plot_confusion_matrix(cnf_matrix, classes=['churn=1','churn=0'],normalize= False,  title='Confusion matrix')"
      ],
      "execution_count": 111,
      "outputs": [
        {
          "output_type": "stream",
          "text": [
            "Confusion matrix, without normalization\n",
            "[[1299    0]\n",
            " [   0    0]]\n"
          ],
          "name": "stdout"
        },
        {
          "output_type": "display_data",
          "data": {
            "image/png": "[encoded data removed]",
            "text/plain": [
              "<Figure size 432x288 with 2 Axes>"
            ]
          },
          "metadata": {
            "tags": [],
            "needs_background": "light"
          }
        }
      ]
    },
    {
      "cell_type": "code",
      "metadata": {
        "colab": {
          "base_uri": "https://localhost:8080/"
        },
        "id": "2zyuXWVrL2fl",
        "outputId": "3b2d137a-1308-450f-b60b-0f20c5558920"
      },
      "source": [
        "print (classification_report(y_test, yhat))"
      ],
      "execution_count": 112,
      "outputs": [
        {
          "output_type": "stream",
          "text": [
            "              precision    recall  f1-score   support\n",
            "\n",
            "           1       1.00      1.00      1.00      1299\n",
            "           2       1.00      1.00      1.00       301\n",
            "\n",
            "    accuracy                           1.00      1600\n",
            "   macro avg       1.00      1.00      1.00      1600\n",
            "weighted avg       1.00      1.00      1.00      1600\n",
            "\n"
          ],
          "name": "stdout"
        }
      ]
    },
    {
      "cell_type": "markdown",
      "metadata": {
        "id": "b1R4Tb_fSTBO"
      },
      "source": [
        "**log loss**"
      ]
    },
    {
      "cell_type": "code",
      "metadata": {
        "colab": {
          "base_uri": "https://localhost:8080/"
        },
        "id": "Ms3wXLDXL7BF",
        "outputId": "1c23395b-3009-477c-a339-5178d1d8e86c"
      },
      "source": [
        "from sklearn.metrics import log_loss\n",
        "log_loss(y_test, yhat_prob)"
      ],
      "execution_count": 113,
      "outputs": [
        {
          "output_type": "execute_result",
          "data": {
            "text/plain": [
              "0.025625369101540656"
            ]
          },
          "metadata": {
            "tags": []
          },
          "execution_count": 113
        }
      ]
    },
    {
      "cell_type": "markdown",
      "metadata": {
        "id": "SyU4HE8ELk8l"
      },
      "source": [
        ""
      ]
    }
  ]
}